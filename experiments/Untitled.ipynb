{
 "cells": [
  {
   "cell_type": "code",
   "execution_count": 2,
   "id": "17a7a467",
   "metadata": {
    "vscode": {
     "languageId": "rust"
    }
   },
   "outputs": [],
   "source": [
    ":dep fundsp = \"*\""
   ]
  },
  {
   "cell_type": "code",
   "execution_count": 5,
   "id": "c3e3b1df",
   "metadata": {
    "vscode": {
     "languageId": "rust"
    }
   },
   "outputs": [
    {
     "name": "stdout",
     "output_type": "stream",
     "text": [
      "  0 dB ------------------------------------------------   0 dB\n",
      "       ************************************.           \n",
      "-10 dB ***************************************.-------- -10 dB\n",
      "       *****************************************.      \n",
      "-20 dB ******************************************.----- -20 dB\n",
      "       *******************************************.    \n",
      "-30 dB ********************************************---- -30 dB\n",
      "       *********************************************   \n",
      "-40 dB *********************************************.-- -40 dB\n",
      "       **********************************************  \n",
      "-50 dB **********************************************-- -50 dB\n",
      "       *********************************************** \n",
      "-60 dB ***********************************************- -60 dB\n",
      "       |   |    |    |     |    |    |     |    |    |\n",
      "       10  50   100  200   500  1k   2k    5k   10k  20k Hz\n",
      "\n",
      "Peak Magnitude : -0.00 dB\n",
      "Inputs         : 1\n",
      "Outputs        : 1\n",
      "Latency        : 0.0 samples\n",
      "Footprint      : 96 bytes\n",
      "\n"
     ]
    },
    {
     "data": {
      "text/plain": [
       "()"
      ]
     },
     "execution_count": 5,
     "metadata": {},
     "output_type": "execute_result"
    }
   ],
   "source": [
    "use fundsp::hacker::*;\n",
    "println!(\"{}\", butterpass_hz(5000.0).display())"
   ]
  },
  {
   "cell_type": "code",
   "execution_count": 6,
   "id": "1036153c",
   "metadata": {
    "vscode": {
     "languageId": "rust"
    }
   },
   "outputs": [
    {
     "ename": "Error",
     "evalue": "`An<ButterLowpass<f64, UInt<UTerm, B1>>>` doesn't implement `Debug`",
     "output_type": "error",
     "traceback": [
      "\u001b[31m[E0277] Error:\u001b[0m `An<ButterLowpass<f64, UInt<UTerm, B1>>>` doesn't implement `Debug`"
     ]
    }
   ],
   "source": []
  }
 ],
 "metadata": {
  "kernelspec": {
   "display_name": "Rust",
   "language": "rust",
   "name": "rust"
  },
  "language_info": {
   "codemirror_mode": "rust",
   "file_extension": ".rs",
   "mimetype": "text/rust",
   "name": "Rust",
   "pygment_lexer": "rust",
   "version": ""
  }
 },
 "nbformat": 4,
 "nbformat_minor": 5
}
